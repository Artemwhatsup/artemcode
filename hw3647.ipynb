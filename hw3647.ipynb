{
 "cells": [
  {
   "cell_type": "code",
   "execution_count": null,
   "id": "311978ae",
   "metadata": {},
   "outputs": [],
   "source": [
    "\n",
    "n = 10\n",
    "m = 20\n",
    "while m < n:\n",
    "    print(m, end=' ')\n",
    "    m = m * 1/10"
   ]
  },
  {
   "cell_type": "code",
   "execution_count": null,
   "id": "3d1e9ec3",
   "metadata": {},
   "outputs": [],
   "source": [
    "x = 10\n",
    "while x < 20:\n",
    "    print(x)"
   ]
  },
  {
   "cell_type": "code",
   "execution_count": 6,
   "id": "745fec60",
   "metadata": {
    "scrolled": true
   },
   "outputs": [
    {
     "name": "stdout",
     "output_type": "stream",
     "text": [
      "1.0\n"
     ]
    }
   ],
   "source": [
    "x = 10 * float(0.1)\n",
    "print(x)"
   ]
  },
  {
   "cell_type": "code",
   "execution_count": 20,
   "id": "04cebce0",
   "metadata": {},
   "outputs": [
    {
     "name": "stdout",
     "output_type": "stream",
     "text": [
      "10\n",
      "11.0\n",
      "12.1\n",
      "13.309999999999999\n",
      "14.640999999999998\n",
      "16.105099999999997\n",
      "17.715609999999998\n",
      "19.487170999999996\n"
     ]
    }
   ],
   "source": [
    "x = 10\n",
    "while x < 20:\n",
    "    print(x)\n",
    "    x += x * 0.1\n",
    "    \n",
    "# как посчитать ровно дни?"
   ]
  },
  {
   "cell_type": "code",
   "execution_count": null,
   "id": "4f44f3e1",
   "metadata": {},
   "outputs": [],
   "source": []
  }
 ],
 "metadata": {
  "kernelspec": {
   "display_name": "Python 3 (ipykernel)",
   "language": "python",
   "name": "python3"
  },
  "language_info": {
   "codemirror_mode": {
    "name": "ipython",
    "version": 3
   },
   "file_extension": ".py",
   "mimetype": "text/x-python",
   "name": "python",
   "nbconvert_exporter": "python",
   "pygments_lexer": "ipython3",
   "version": "3.9.13"
  }
 },
 "nbformat": 4,
 "nbformat_minor": 5
}
