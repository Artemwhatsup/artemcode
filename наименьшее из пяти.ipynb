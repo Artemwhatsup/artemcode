{
 "cells": [
  {
   "cell_type": "code",
   "execution_count": 2,
   "id": "3b5a7036",
   "metadata": {},
   "outputs": [
    {
     "name": "stdout",
     "output_type": "stream",
     "text": [
      "введите число 1\n",
      "введите число 2\n",
      "введите число 3\n",
      "введите число 4\n",
      "введите число 5\n"
     ]
    }
   ],
   "source": [
    "a = input (\"введите число \")\n",
    "b = input (\"введите число \")\n",
    "c = input (\"введите число \")\n",
    "d = input (\"введите число \")\n",
    "e = input (\"введите число \")"
   ]
  },
  {
   "cell_type": "code",
   "execution_count": 5,
   "id": "7da70e27",
   "metadata": {},
   "outputs": [
    {
     "ename": "SyntaxError",
     "evalue": "invalid syntax (2878025214.py, line 7)",
     "output_type": "error",
     "traceback": [
      "\u001b[1;36m  File \u001b[1;32m\"C:\\Users\\Arutyunov\\AppData\\Local\\Temp\\ipykernel_1472\\2878025214.py\"\u001b[1;36m, line \u001b[1;32m7\u001b[0m\n\u001b[1;33m    if a >= b\u001b[0m\n\u001b[1;37m             ^\u001b[0m\n\u001b[1;31mSyntaxError\u001b[0m\u001b[1;31m:\u001b[0m invalid syntax\n"
     ]
    }
   ],
   "source": [
    "a = input (\"введите число \")\n",
    "b = input (\"введите число \")\n",
    "c = input (\"введите число \")\n",
    "d = input (\"введите число \")\n",
    "e = input (\"введите число \")\n",
    "\n",
    "if a >= b\n",
    "    print a"
   ]
  },
  {
   "cell_type": "code",
   "execution_count": 6,
   "id": "21e0e9e3",
   "metadata": {},
   "outputs": [
    {
     "name": "stdout",
     "output_type": "stream",
     "text": [
      "1\n"
     ]
    }
   ],
   "source": [
    "a = int(input())"
   ]
  },
  {
   "cell_type": "code",
   "execution_count": 7,
   "id": "586689f0",
   "metadata": {},
   "outputs": [
    {
     "ename": "IndentationError",
     "evalue": "unexpected indent (4095905784.py, line 4)",
     "output_type": "error",
     "traceback": [
      "\u001b[1;36m  File \u001b[1;32m\"C:\\Users\\Arutyunov\\AppData\\Local\\Temp\\ipykernel_1472\\4095905784.py\"\u001b[1;36m, line \u001b[1;32m4\u001b[0m\n\u001b[1;33m    if a>=b\u001b[0m\n\u001b[1;37m    ^\u001b[0m\n\u001b[1;31mIndentationError\u001b[0m\u001b[1;31m:\u001b[0m unexpected indent\n"
     ]
    }
   ],
   "source": [
    "a = int(input())\n",
    "b = int(input())\n",
    "\n",
    "    if a>=b\n",
    "    print a"
   ]
  },
  {
   "cell_type": "code",
   "execution_count": 6,
   "id": "eb872567",
   "metadata": {},
   "outputs": [
    {
     "ename": "SyntaxError",
     "evalue": "invalid syntax (628918449.py, line 6)",
     "output_type": "error",
     "traceback": [
      "\u001b[1;36m  File \u001b[1;32m\"C:\\Users\\Arutyunov\\AppData\\Local\\Temp\\ipykernel_6036\\628918449.py\"\u001b[1;36m, line \u001b[1;32m6\u001b[0m\n\u001b[1;33m    elif b>a:\u001b[0m\n\u001b[1;37m    ^\u001b[0m\n\u001b[1;31mSyntaxError\u001b[0m\u001b[1;31m:\u001b[0m invalid syntax\n"
     ]
    }
   ],
   "source": [
    "a = int(input())\n",
    "b = int(input())\n",
    "\n",
    "if a>b:\n",
    "    print(a)\n",
    "    elif b>a:\n",
    "    print(b)\n"
   ]
  },
  {
   "cell_type": "code",
   "execution_count": 7,
   "id": "11744ad9",
   "metadata": {},
   "outputs": [
    {
     "name": "stdout",
     "output_type": "stream",
     "text": [
      "3\n",
      "2\n",
      "3\n"
     ]
    }
   ],
   "source": [
    "a = int(input())\n",
    "b = int(input())\n",
    "\n",
    "if a>b:\n",
    "    print(a)"
   ]
  },
  {
   "cell_type": "code",
   "execution_count": 2,
   "id": "f0c7e314",
   "metadata": {},
   "outputs": [
    {
     "name": "stdout",
     "output_type": "stream",
     "text": [
      "введите число 1\n",
      "введите число 2\n",
      "введите число 3\n",
      "введите число 4\n",
      "введите число 5\n",
      "2\n"
     ]
    }
   ],
   "source": [
    "a = input (\"введите число \")\n",
    "b = input (\"введите число \")\n",
    "c = input (\"введите число \")\n",
    "d = input (\"введите число \")\n",
    "e = input (\"введите число \")\n",
    "\n",
    "if a>b or a>c or a>d or a>e:\n",
    "    print(a)\n",
    "elif b>a or b>c or b>d or b>e:\n",
    "    print (b)\n",
    "elif c>a or c>b or c>d or c>e: \n",
    "    print (c)\n",
    "elif d>a or d>c or d>b or d>e: \n",
    "    print (d)\n",
    "elif e>a or e>c or e>d or e>b:    \n",
    "    print (e)\n",
    "    "
   ]
  },
  {
   "cell_type": "code",
   "execution_count": 19,
   "id": "05778b5f",
   "metadata": {},
   "outputs": [
    {
     "name": "stdout",
     "output_type": "stream",
     "text": [
      "введите число 9\n",
      "введите число 8\n",
      "введите число 7\n",
      "введите число 6\n",
      "введите число 5\n",
      "5\n"
     ]
    }
   ],
   "source": [
    "a = input (\"введите число \")\n",
    "b = input (\"введите число \")\n",
    "c = input (\"введите число \")\n",
    "d = input (\"введите число \")\n",
    "e = input (\"введите число \")\n",
    "\n",
    "if a<=b and a<=c and a<=d and a<=e: \n",
    "    print(a)\n",
    "elif b<=a and b<=c and b<=d and b<=e: \n",
    "    print(b)\n",
    "elif c<=a and c<=b and c<=d and c<=e:\n",
    "    print(c)\n",
    "elif d<=a and d<=b and d<=c and d<=e:\n",
    "    print(d)\n",
    "elif e<=a and e<=b and e<=c and e<=b:\n",
    "    print(e)    \n"
   ]
  },
  {
   "cell_type": "code",
   "execution_count": null,
   "id": "c060b2ed",
   "metadata": {},
   "outputs": [],
   "source": []
  },
  {
   "cell_type": "code",
   "execution_count": null,
   "id": "77c1e2c1",
   "metadata": {},
   "outputs": [],
   "source": []
  },
  {
   "cell_type": "code",
   "execution_count": null,
   "id": "cebb65c5",
   "metadata": {},
   "outputs": [],
   "source": []
  },
  {
   "cell_type": "code",
   "execution_count": null,
   "id": "3a8dff27",
   "metadata": {},
   "outputs": [],
   "source": []
  },
  {
   "cell_type": "code",
   "execution_count": null,
   "id": "53589569",
   "metadata": {},
   "outputs": [],
   "source": []
  },
  {
   "cell_type": "code",
   "execution_count": null,
   "id": "b461d69c",
   "metadata": {},
   "outputs": [],
   "source": []
  },
  {
   "cell_type": "code",
   "execution_count": null,
   "id": "f019276d",
   "metadata": {},
   "outputs": [],
   "source": []
  },
  {
   "cell_type": "code",
   "execution_count": null,
   "id": "279873f6",
   "metadata": {},
   "outputs": [],
   "source": []
  }
 ],
 "metadata": {
  "kernelspec": {
   "display_name": "Python 3 (ipykernel)",
   "language": "python",
   "name": "python3"
  },
  "language_info": {
   "codemirror_mode": {
    "name": "ipython",
    "version": 3
   },
   "file_extension": ".py",
   "mimetype": "text/x-python",
   "name": "python",
   "nbconvert_exporter": "python",
   "pygments_lexer": "ipython3",
   "version": "3.9.13"
  }
 },
 "nbformat": 4,
 "nbformat_minor": 5
}
