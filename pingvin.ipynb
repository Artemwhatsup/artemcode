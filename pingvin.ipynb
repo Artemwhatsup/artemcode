{
 "cells": [
  {
   "cell_type": "code",
   "execution_count": 2,
   "id": "ffd481eb",
   "metadata": {},
   "outputs": [
    {
     "name": "stdout",
     "output_type": "stream",
     "text": [
      "\\\n"
     ]
    }
   ],
   "source": [
    "#    _~_       _~_       _~_    \n",
    "#  (o o)     (o o)     (o o)   \n",
    "# /  V  \\   /  V  \\   /  V  \\  \n",
    "#/(  _  )\\ /(  _  )\\ /(  _  )\\ \n",
    "# ^^ ^^     ^^ ^^     ^^ ^^   \n",
    "\n",
    "\n",
    "print(\"\\\\\")"
   ]
  },
  {
   "cell_type": "code",
   "execution_count": 6,
   "id": "77a800e1",
   "metadata": {},
   "outputs": [
    {
     "name": "stdout",
     "output_type": "stream",
     "text": [
      "    _~_       _~_       _~_   \n",
      "   (o o)     (o o)     (o o) \n",
      "  /  V  \\   /  V  \\   /  V  \\ \n",
      " /(  _  )\\ /(  _  )\\ /(  _  )\\ \n",
      "   ^^ ^^     ^^ ^^     ^^ ^^   \n"
     ]
    }
   ],
   "source": [
    "print(\"    _~_       _~_       _~_   \")\n",
    "print(\"   (o o)     (o o)     (o o) \")\n",
    "print(\"  /  V  \\   /  V  \\   /  V  \\ \")\n",
    "print(\" /(  _  )\\ /(  _  )\\ /(  _  )\\ \")\n",
    "print(\"   ^^ ^^     ^^ ^^     ^^ ^^   \")"
   ]
  },
  {
   "cell_type": "code",
   "execution_count": null,
   "id": "b1d5aae2",
   "metadata": {},
   "outputs": [],
   "source": []
  }
 ],
 "metadata": {
  "kernelspec": {
   "display_name": "Python 3 (ipykernel)",
   "language": "python",
   "name": "python3"
  },
  "language_info": {
   "codemirror_mode": {
    "name": "ipython",
    "version": 3
   },
   "file_extension": ".py",
   "mimetype": "text/x-python",
   "name": "python",
   "nbconvert_exporter": "python",
   "pygments_lexer": "ipython3",
   "version": "3.9.13"
  }
 },
 "nbformat": 4,
 "nbformat_minor": 5
}
