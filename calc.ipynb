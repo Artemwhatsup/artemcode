{
 "cells": [
  {
   "cell_type": "code",
   "execution_count": 19,
   "id": "51e96eb5",
   "metadata": {},
   "outputs": [
    {
     "name": "stdout",
     "output_type": "stream",
     "text": [
      "введите число 1\n",
      "введите число 2\n",
      "введите действие **\n",
      "1\n"
     ]
    }
   ],
   "source": [
    "a = int(input(\"введите число \"))\n",
    "b = int(input(\"введите число \"))\n",
    "c = str(input(\"введите действие \"))\n",
    "\n",
    "if c == \"+\":\n",
    "    print(a + b)\n",
    "elif c == \"-\":\n",
    "    print(a-b)\n",
    "elif c == \"*\":\n",
    "    print(a*b)\n",
    "elif c== \"/\":\n",
    "    print(a / b)\n",
    "elif c== \"**\":\n",
    "    print(a ** b)\n",
    "else:\n",
    "    print(\"что то не так\")\n",
    "        "
   ]
  },
  {
   "cell_type": "code",
   "execution_count": null,
   "id": "6c00c27d",
   "metadata": {},
   "outputs": [],
   "source": []
  }
 ],
 "metadata": {
  "kernelspec": {
   "display_name": "Python 3 (ipykernel)",
   "language": "python",
   "name": "python3"
  },
  "language_info": {
   "codemirror_mode": {
    "name": "ipython",
    "version": 3
   },
   "file_extension": ".py",
   "mimetype": "text/x-python",
   "name": "python",
   "nbconvert_exporter": "python",
   "pygments_lexer": "ipython3",
   "version": "3.9.13"
  }
 },
 "nbformat": 4,
 "nbformat_minor": 5
}
