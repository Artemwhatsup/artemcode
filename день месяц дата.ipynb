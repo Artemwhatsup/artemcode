{
 "cells": [
  {
   "cell_type": "code",
   "execution_count": 1,
   "id": "1bf97297",
   "metadata": {},
   "outputs": [
    {
     "name": "stdout",
     "output_type": "stream",
     "text": [
      "hello world\n"
     ]
    }
   ],
   "source": [
    "print ('hello world')"
   ]
  },
  {
   "cell_type": "code",
   "execution_count": 3,
   "id": "1799b417",
   "metadata": {},
   "outputs": [
    {
     "name": "stdout",
     "output_type": "stream",
     "text": [
      "1\n",
      "2\n"
     ]
    }
   ],
   "source": [
    "a = int(input())\n",
    "b = int(input())\n"
   ]
  },
  {
   "cell_type": "code",
   "execution_count": 5,
   "id": "a74125d0",
   "metadata": {},
   "outputs": [
    {
     "name": "stdout",
     "output_type": "stream",
     "text": [
      "4\n",
      "5\n",
      "9\n"
     ]
    }
   ],
   "source": [
    "a = int(input())\n",
    "b = int(input())\n",
    "print(a + b)\n"
   ]
  },
  {
   "cell_type": "code",
   "execution_count": 7,
   "id": "6f4213eb",
   "metadata": {},
   "outputs": [
    {
     "name": "stdout",
     "output_type": "stream",
     "text": [
      "3\n",
      "I don't know this\n"
     ]
    }
   ],
   "source": [
    "number = int(input())\n",
    "if number == 1:\n",
    "    print(\"It is 1\")\n",
    "elif number == 2:\n",
    "    print(\"It is 2\")\n",
    "else:\n",
    "    print(\"I don't know this\")\n"
   ]
  },
  {
   "cell_type": "code",
   "execution_count": 11,
   "id": "3dfaec34",
   "metadata": {},
   "outputs": [
    {
     "name": "stdout",
     "output_type": "stream",
     "text": [
      "3\n",
      "It is more or equal than 1\n",
      "It is 3\n"
     ]
    }
   ],
   "source": [
    "number = int(input())\n",
    "if number >= 1:\n",
    "    print(\"It is more or equal than 1\")\n",
    "    if number == 3:\n",
    "        print(\"It is 3\")\n"
   ]
  },
  {
   "cell_type": "code",
   "execution_count": 13,
   "id": "51c786cd",
   "metadata": {},
   "outputs": [
    {
     "name": "stdout",
     "output_type": "stream",
     "text": [
      "5\n",
      "YES\n"
     ]
    }
   ],
   "source": [
    "a = int(input())\n",
    "print(\"YES\" if a == 5 else \"NO\")\n"
   ]
  },
  {
   "cell_type": "code",
   "execution_count": 17,
   "id": "fa7e7ef4",
   "metadata": {},
   "outputs": [
    {
     "ename": "NameError",
     "evalue": "name 'current_day' is not defined",
     "output_type": "error",
     "traceback": [
      "\u001b[1;31m---------------------------------------------------------------------------\u001b[0m",
      "\u001b[1;31mNameError\u001b[0m                                 Traceback (most recent call last)",
      "\u001b[1;32m~\\AppData\\Local\\Temp\\ipykernel_372\\3267240788.py\u001b[0m in \u001b[0;36m<module>\u001b[1;34m\u001b[0m\n\u001b[1;32m----> 1\u001b[1;33m \u001b[0mcurrent_day\u001b[0m \u001b[1;33m==\u001b[0m \u001b[1;36m22\u001b[0m\u001b[1;33m\u001b[0m\u001b[1;33m\u001b[0m\u001b[0m\n\u001b[0m\u001b[0;32m      2\u001b[0m \u001b[0mcurrent_month\u001b[0m \u001b[1;33m==\u001b[0m \u001b[1;36m11\u001b[0m\u001b[1;33m\u001b[0m\u001b[1;33m\u001b[0m\u001b[0m\n\u001b[0;32m      3\u001b[0m \u001b[0mcurretn_year\u001b[0m \u001b[1;33m==\u001b[0m \u001b[1;36m22\u001b[0m\u001b[1;33m\u001b[0m\u001b[1;33m\u001b[0m\u001b[0m\n",
      "\u001b[1;31mNameError\u001b[0m: name 'current_day' is not defined"
     ]
    }
   ],
   "source": [
    "current_day == 22\n",
    "current_month == 11\n",
    "curretn_year == 22\n"
   ]
  },
  {
   "cell_type": "code",
   "execution_count": 18,
   "id": "ade558df",
   "metadata": {},
   "outputs": [
    {
     "name": "stdout",
     "output_type": "stream",
     "text": [
      "1\n"
     ]
    }
   ],
   "source": [
    "number = int(input())"
   ]
  },
  {
   "cell_type": "code",
   "execution_count": 20,
   "id": "8da8b2e1",
   "metadata": {},
   "outputs": [
    {
     "name": "stdout",
     "output_type": "stream",
     "text": [
      "ВВедите свой день рождения25.06.1992\n"
     ]
    }
   ],
   "source": [
    "date = input(\"ВВедите свой день рождения\")"
   ]
  },
  {
   "cell_type": "code",
   "execution_count": 22,
   "id": "dcbb981e",
   "metadata": {},
   "outputs": [
    {
     "name": "stdout",
     "output_type": "stream",
     "text": [
      "день 25\n",
      "месяц 06\n",
      "год 92\n"
     ]
    }
   ],
   "source": [
    "day = input (\"день \")\n",
    "month = input (\"месяц \")\n",
    "year = input (\"год \")\n"
   ]
  },
  {
   "cell_type": "code",
   "execution_count": 23,
   "id": "65c7fd5a",
   "metadata": {},
   "outputs": [
    {
     "name": "stdout",
     "output_type": "stream",
     "text": [
      "день 25\n",
      "месяц 06\n",
      "год 92\n",
      "тебе лет\n"
     ]
    }
   ],
   "source": [
    "day = input (\"день \")\n",
    "month = input (\"месяц \")\n",
    "year = input (\"год \")\n",
    "\n",
    "print (\"тебе лет\")\n",
    "\n"
   ]
  },
  {
   "cell_type": "code",
   "execution_count": null,
   "id": "5c897326",
   "metadata": {},
   "outputs": [],
   "source": [
    "a = 22\n",
    "b = 11\n",
    "c = 2022\n",
    "\n",
    "\n",
    "day = input (\"день \")\n",
    "month = input (\"месяц \")\n",
    "year = input (\"год \")\n",
    "\n",
    "print (\"тебе лет\")"
   ]
  },
  {
   "cell_type": "code",
   "execution_count": 26,
   "id": "5c455997",
   "metadata": {},
   "outputs": [
    {
     "name": "stdout",
     "output_type": "stream",
     "text": [
      "год 1992\n"
     ]
    },
    {
     "ename": "TypeError",
     "evalue": "unsupported operand type(s) for -: 'str' and 'str'",
     "output_type": "error",
     "traceback": [
      "\u001b[1;31m---------------------------------------------------------------------------\u001b[0m",
      "\u001b[1;31mTypeError\u001b[0m                                 Traceback (most recent call last)",
      "\u001b[1;32m~\\AppData\\Local\\Temp\\ipykernel_372\\2630828930.py\u001b[0m in \u001b[0;36m<module>\u001b[1;34m\u001b[0m\n\u001b[0;32m      4\u001b[0m \u001b[0myear\u001b[0m \u001b[1;33m=\u001b[0m \u001b[0minput\u001b[0m \u001b[1;33m(\u001b[0m\u001b[1;34m\"год \"\u001b[0m\u001b[1;33m)\u001b[0m\u001b[1;33m\u001b[0m\u001b[1;33m\u001b[0m\u001b[0m\n\u001b[0;32m      5\u001b[0m \u001b[1;33m\u001b[0m\u001b[0m\n\u001b[1;32m----> 6\u001b[1;33m \u001b[0mprint\u001b[0m \u001b[1;33m(\u001b[0m\u001b[1;34m\"тебе лет\"\u001b[0m \u001b[1;33m+\u001b[0m \u001b[0mstr\u001b[0m\u001b[1;33m(\u001b[0m\u001b[0mc\u001b[0m\u001b[1;33m)\u001b[0m \u001b[1;33m-\u001b[0m \u001b[0mstr\u001b[0m\u001b[1;33m(\u001b[0m\u001b[0myear\u001b[0m\u001b[1;33m)\u001b[0m\u001b[1;33m)\u001b[0m\u001b[1;33m\u001b[0m\u001b[1;33m\u001b[0m\u001b[0m\n\u001b[0m",
      "\u001b[1;31mTypeError\u001b[0m: unsupported operand type(s) for -: 'str' and 'str'"
     ]
    }
   ],
   "source": [
    "\n",
    "c = 2022\n",
    "\n",
    "\n",
    "year = input (\"год \")\n",
    "\n",
    "print (\"тебе лет\" + str(c) - str(year))"
   ]
  },
  {
   "cell_type": "code",
   "execution_count": 31,
   "id": "ee9117f2",
   "metadata": {},
   "outputs": [
    {
     "name": "stdout",
     "output_type": "stream",
     "text": [
      "год твоего рождения 1992\n",
      "тебе лет\n",
      "30\n"
     ]
    }
   ],
   "source": [
    "\n",
    "c = 2022\n",
    "\n",
    "\n",
    "year = input (\"год твоего рождения \")\n",
    "\n",
    "print (\"тебе лет\")\n",
    "print (int(c) - int(year))"
   ]
  },
  {
   "cell_type": "code",
   "execution_count": 36,
   "id": "f398f89f",
   "metadata": {},
   "outputs": [
    {
     "ename": "SyntaxError",
     "evalue": "invalid syntax (1790681487.py, line 13)",
     "output_type": "error",
     "traceback": [
      "\u001b[1;36m  File \u001b[1;32m\"C:\\Users\\Arutyunov\\AppData\\Local\\Temp\\ipykernel_372\\1790681487.py\"\u001b[1;36m, line \u001b[1;32m13\u001b[0m\n\u001b[1;33m    if day >= a\u001b[0m\n\u001b[1;37m               ^\u001b[0m\n\u001b[1;31mSyntaxError\u001b[0m\u001b[1;31m:\u001b[0m invalid syntax\n"
     ]
    }
   ],
   "source": [
    "a = 22\n",
    "b = 11\n",
    "c = 2022\n",
    "\n",
    "day = input (\"день \")\n",
    "month = input (\"месяц \")\n",
    "year = input (\"год твоего рождения \")\n",
    "\n",
    "# print (\"тебе лет\")\n",
    "# print (int(c) - int(year))\n",
    "\n",
    "\n",
    "if day >= a\n",
    "    b - 1 \n",
    "    "
   ]
  },
  {
   "cell_type": "code",
   "execution_count": 2,
   "id": "c01e8b65",
   "metadata": {},
   "outputs": [
    {
     "name": "stdout",
     "output_type": "stream",
     "text": [
      "день 25\n",
      "месяц 06\n",
      "год твоего рождения 1992\n",
      "30\n"
     ]
    }
   ],
   "source": [
    "a = 22\n",
    "b = 11\n",
    "c = 2022\n",
    "\n",
    "day = input (\"день \")\n",
    "month = input (\"месяц \")\n",
    "year = input (\"год твоего рождения \")\n",
    "\n",
    "\n",
    "print (int(c) - int(year))"
   ]
  },
  {
   "cell_type": "code",
   "execution_count": null,
   "id": "c731e512",
   "metadata": {},
   "outputs": [],
   "source": []
  }
 ],
 "metadata": {
  "kernelspec": {
   "display_name": "Python 3 (ipykernel)",
   "language": "python",
   "name": "python3"
  },
  "language_info": {
   "codemirror_mode": {
    "name": "ipython",
    "version": 3
   },
   "file_extension": ".py",
   "mimetype": "text/x-python",
   "name": "python",
   "nbconvert_exporter": "python",
   "pygments_lexer": "ipython3",
   "version": "3.9.13"
  }
 },
 "nbformat": 4,
 "nbformat_minor": 5
}
